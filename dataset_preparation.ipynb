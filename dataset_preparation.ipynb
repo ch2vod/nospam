{
 "cells": [
  {
   "cell_type": "code",
   "execution_count": 1,
   "metadata": {},
   "outputs": [],
   "source": [
    "import os\n",
    "import pandas as pd"
   ]
  },
  {
   "cell_type": "code",
   "execution_count": 2,
   "metadata": {},
   "outputs": [],
   "source": [
    "def load_file(file):\n",
    "    df = pd.read_csv(file, sep='\\t', low_memory=False)\n",
    "    df = df.replace({'\\t': '_', '\\r': '_', '\\n': '_'}, regex=True)\n",
    "    return df\n"
   ]
  },
  {
   "cell_type": "code",
   "execution_count": 3,
   "metadata": {},
   "outputs": [],
   "source": [
    "ORI_FILE = \"./original_v1.csv\"\n",
    "df_ori = load_file(ORI_FILE)\n",
    "\n",
    "MSG_TXT = \"전문내용\"\n",
    "RESULT_COLUMN = 'chatGPT'\n",
    "\n",
    "OUT_FILE = \"./spamllama_dataset_v1.tsv\"\n"
   ]
  },
  {
   "cell_type": "code",
   "execution_count": 4,
   "metadata": {},
   "outputs": [],
   "source": [
    "non_empty_indices = df_ori[df_ori[RESULT_COLUMN].notna() & (df_ori[RESULT_COLUMN] != '')].index\n",
    "df_out = df_ori[df_ori.index.isin(non_empty_indices)].copy()\n"
   ]
  },
  {
   "cell_type": "code",
   "execution_count": 5,
   "metadata": {},
   "outputs": [],
   "source": [
    "df_out['DROP_DUPLICATES_COLUMN'] = df_out[RESULT_COLUMN].str.slice(stop=512)\n",
    "df_out.drop_duplicates(subset='DROP_DUPLICATES_COLUMN', keep='first', inplace=True)\n",
    "# drop temp column\n",
    "df_out.drop(columns=['DROP_DUPLICATES_COLUMN'], inplace=True)"
   ]
  },
  {
   "cell_type": "code",
   "execution_count": 6,
   "metadata": {},
   "outputs": [],
   "source": [
    "CR = '_x000D_'\n",
    "df_out[MSG_TXT] = df_out[MSG_TXT].str.replace(CR, '')\n",
    "df_out[RESULT_COLUMN] = df_out[RESULT_COLUMN].str.replace(CR, '')\n"
   ]
  },
  {
   "cell_type": "code",
   "execution_count": 7,
   "metadata": {},
   "outputs": [],
   "source": [
    "df_out.to_csv(OUT_FILE, sep='\\t', index=False)\n"
   ]
  },
  {
   "cell_type": "code",
   "execution_count": 8,
   "metadata": {},
   "outputs": [
    {
     "data": {
      "text/plain": [
       "0        분석 결과:_부류: 정치인의 선전 및 지역 홍보를 목적으로 하는 스팸_위험 정도: ...\n",
       "1        분석 결과:_부류: 금융 사기 및 개인정보 탈취를 목적으로 하는 사기성 스팸_위험 ...\n",
       "2        분석 결과:_부류: 음란물 유포 및 사기성 스팸_위험 정도: 5) 95~100%_분...\n",
       "3        분석 결과:_부류: 일반적인 메시지 또는 축하 메시지_위험 정도: 1) 50~70%...\n",
       "4        분석 결과:_부류: 상업적 광고 메시지_위험 정도: 2) 70~80%_분석 및 설명...\n",
       "                               ...                        \n",
       "60537    분석 결과:_해당 SMS는 악성 스팸 가능성이 낮은 메시지로 평가됩니다._분석 내용...\n",
       "60539    분석 결과:_해당 SMS는 악성 스팸 가능성이 낮은 메시지로 평가됩니다._분석 내용...\n",
       "60541    분석 결과:_해당 SMS는 악성 스팸 가능성이 높은 메시지로 평가됩니다._분석 내용...\n",
       "60543    분석 결과:_해당 SMS는 악성 스팸 가능성이 높은 메시지로 판단됩니다._분석 내용...\n",
       "60545    분석 결과:_해당 SMS는 악성 스팸 가능성이 높은 메시지로 판단됩니다._분석 내용...\n",
       "Name: chatGPT, Length: 1649, dtype: object"
      ]
     },
     "execution_count": 8,
     "metadata": {},
     "output_type": "execute_result"
    }
   ],
   "source": [
    "df_out[RESULT_COLUMN]"
   ]
  }
 ],
 "metadata": {
  "kernelspec": {
   "display_name": "nospam",
   "language": "python",
   "name": "python3"
  },
  "language_info": {
   "codemirror_mode": {
    "name": "ipython",
    "version": 3
   },
   "file_extension": ".py",
   "mimetype": "text/x-python",
   "name": "python",
   "nbconvert_exporter": "python",
   "pygments_lexer": "ipython3",
   "version": "3.9.6"
  }
 },
 "nbformat": 4,
 "nbformat_minor": 2
}
